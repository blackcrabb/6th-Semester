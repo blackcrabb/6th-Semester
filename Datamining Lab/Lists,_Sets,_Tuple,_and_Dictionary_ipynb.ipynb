{
  "nbformat": 4,
  "nbformat_minor": 0,
  "metadata": {
    "colab": {
      "name": "Lists, Sets, Tuple, and Dictionary. ipynb",
      "provenance": [],
      "collapsed_sections": []
    },
    "kernelspec": {
      "name": "python3",
      "display_name": "Python 3"
    }
  },
  "cells": [
    {
      "cell_type": "markdown",
      "metadata": {
        "id": "mbp5_c2uojAg"
      },
      "source": [
        "Consider a 2D list storing student's name along with their marks. Use list comprehension to create another list comprising names of students with  marks greater than 85."
      ]
    },
    {
      "cell_type": "code",
      "metadata": {
        "colab": {
          "base_uri": "https://localhost:8080/"
        },
        "id": "BJM2dxp-te5f",
        "outputId": "4b0840f9-aab1-4806-c3a3-85ef8e52ec94"
      },
      "source": [
        "def comprehendlist(arr):\r\n",
        "  return [x for x in arr if x[1] > \"85\"]\r\n",
        "\r\n",
        "def startingPoint():\r\n",
        "  rows = int(input(\"Enter number of rows: \"))\r\n",
        "  arr=[] \r\n",
        "  for i in range(rows): \r\n",
        "      name = input(\"Enter names : \")\r\n",
        "      marks = input(\"Enter marks : \")   \r\n",
        "      arr.append([name,marks]) \r\n",
        "  print(arr)\r\n",
        "  print(comprehendlist(arr))\r\n",
        "\r\n",
        "if __name__ == \"__main__\":\r\n",
        "    startingPoint()\r\n"
      ],
      "execution_count": 21,
      "outputs": [
        {
          "output_type": "stream",
          "text": [
            "Enter number of rows: 3\n",
            "Enter names : bella\n",
            "Enter marks : 86\n",
            "Enter names : edward\n",
            "Enter marks : 89\n",
            "Enter names : matteo\n",
            "Enter marks : 65\n",
            "[['bella', '86'], ['edward', '89'], ['matteo', '65']]\n",
            "[['bella', '86'], ['edward', '89']]\n"
          ],
          "name": "stdout"
        }
      ]
    },
    {
      "cell_type": "markdown",
      "metadata": {
        "id": "NlF3uro-s_YL"
      },
      "source": [
        "WAP that takes a list of marks as an input from the user and creates a dictionary storing marks and the corresponding frequency as key-value pairs."
      ]
    },
    {
      "cell_type": "code",
      "metadata": {
        "colab": {
          "base_uri": "https://localhost:8080/"
        },
        "id": "1WVoSqQBeGn1",
        "outputId": "7da100ee-f231-4b66-e246-1d57631a22e3"
      },
      "source": [
        " def frequency(marksList):\n",
        "    freq = {}\n",
        "    for mark in marksList:\n",
        "        if mark in freq:\n",
        "            freq[mark] += 1\n",
        "        else:\n",
        "            freq[mark] = 1\n",
        "    return freq\n",
        "\n",
        "\n",
        "def startingPoint():\n",
        "    marks = []\n",
        "    num = int(input(\"Enter size of list : \"))\n",
        "    for _ in range(0, num):\n",
        "        mark = int(input(\"Enter the marks : \"))\n",
        "        marks.append(mark)\n",
        "    print(frequency(marks))\n",
        "\n",
        "\n",
        "if __name__ == \"__main__\":\n",
        "    startingPoint()"
      ],
      "execution_count": 19,
      "outputs": [
        {
          "output_type": "stream",
          "text": [
            "Enter size of list : 6\n",
            "Enter the marks : 56\n",
            "Enter the marks : 58\n",
            "Enter the marks : 51\n",
            "Enter the marks : 53\n",
            "Enter the marks : 49\n",
            "Enter the marks : 50\n",
            "{56: 1, 58: 1, 51: 1, 53: 1, 49: 1, 50: 1}\n"
          ],
          "name": "stdout"
        }
      ]
    },
    {
      "cell_type": "markdown",
      "metadata": {
        "id": "hZ48DU0fp9qt"
      },
      "source": [
        "WAP that takes a list of names as an input from the user and creates a dictionary storing word-length as key-value pair for each word given in the list."
      ]
    },
    {
      "cell_type": "code",
      "metadata": {
        "colab": {
          "base_uri": "https://localhost:8080/"
        },
        "id": "pb-MT7-WsHwU",
        "outputId": "209ef939-6c45-4702-f1a5-a8e874f641fb"
      },
      "source": [
        "def createDict(lst):\r\n",
        "    res_dct = {}\r\n",
        "    print(num)\r\n",
        "    for i in range(0, num):\r\n",
        "        res_dct[lst[i]] = len(lst[i])\r\n",
        "    return res_dct\r\n",
        "\r\n",
        "\r\n",
        "def startingPoint():\r\n",
        "  names = []\r\n",
        "  num = int(input(\"Enter total number of names: \"))\r\n",
        "  for i in range(0, num):\r\n",
        "      name = input(\"Enter the name: \")\r\n",
        "      names.append(name)\r\n",
        "  print(names)\r\n",
        "  print(createDict(names))\r\n",
        "\r\n",
        "if __name__ == \"__main__\":\r\n",
        "    startingPoint()"
      ],
      "execution_count": 10,
      "outputs": [
        {
          "output_type": "stream",
          "text": [
            "Enter total number of names: 5\n",
            "Enter the name: swati\n",
            "Enter the name: mansi\n",
            "Enter the name: bella\n",
            "Enter the name: veronica\n",
            "Enter the name: natalia\n",
            "['swati', 'mansi', 'bella', 'veronica', 'natalia']\n",
            "5\n",
            "{'swati': 5, 'mansi': 5, 'bella': 5, 'veronica': 8, 'natalia': 7}\n"
          ],
          "name": "stdout"
        }
      ]
    }
  ]
}